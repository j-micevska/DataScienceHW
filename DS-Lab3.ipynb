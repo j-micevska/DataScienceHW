{
  "nbformat": 4,
  "nbformat_minor": 0,
  "metadata": {
    "colab": {
      "provenance": []
    },
    "kernelspec": {
      "name": "python3",
      "display_name": "Python 3"
    },
    "language_info": {
      "name": "python"
    }
  },
  "cells": [
    {
      "cell_type": "markdown",
      "source": [
        "<ul><font size = 5 color='Orange'>\n",
        "Learning Goals</font>\n",
        "<font color = 'Orange'><li>Obtaining the Dataset</li>\n",
        "<li>Describe the target value</li>\n",
        "<li>Select is it classification or regression problem</li>\n",
        "<li>Build basic model (KNN/Logistic Regression/Linear Regression) depending on the problem</li>\n",
        "<li>Build Decision Tree model</li>\n",
        "<li>Evaluate both models on the same test dataset</li>\n",
        "<li>Compare the results</li>\n",
        "</ul>"
      ],
      "metadata": {
        "id": "wsPEypIyjSq-"
      }
    },
    {
      "cell_type": "markdown",
      "source": [
        "The Dataset for this exercise depends on your index number i.e number_of_data_set = index % 10:\n",
        "\n",
        "\n",
        "0.  https://www.kaggle.com/tunguz/us-elections-dataset\n",
        "1.  https://www.kaggle.com/andrewmvd/heart-failure-clinical-data\n",
        "2.  https://www.kaggle.com/sootersaalu/amazon-top-50-bestselling-books-2009-2019\n",
        "3.  https://www.kaggle.com/anmolkumar/health-insurance-cross-sell-prediction\n",
        "4.  https://www.kaggle.com/uciml/red-wine-quality-cortez-et-al-2009\n",
        "5.  https://www.kaggle.com/anmolkumar/house-price-prediction-challenge\n",
        "6.  https://www.kaggle.com/datasets/tadhgfitzgerald/fifa-international-soccer-mens-ranking-1993now\n",
        "7.  https://www.kaggle.com/arslanali4343/real-estate-dataset\n",
        "8.  https://www.kaggle.com/terenceshin/covid19s-impact-on-airport-traffic\n",
        "9.  https://www.kaggle.com/arslanali4343/top-personality-dataset\n",
        "\n",
        "\n",
        "\n",
        "\n",
        "\n"
      ],
      "metadata": {
        "id": "qO5SWztjhay0"
      }
    },
    {
      "cell_type": "code",
      "source": [
        "from google.colab import drive\n",
        "drive.mount('/content/drive')"
      ],
      "metadata": {
        "colab": {
          "base_uri": "https://localhost:8080/"
        },
        "id": "mCUWCiuDR_tB",
        "outputId": "ed12fd9e-5581-4832-a631-ea58719b0bc8"
      },
      "execution_count": null,
      "outputs": [
        {
          "output_type": "stream",
          "name": "stdout",
          "text": [
            "Mounted at /content/drive\n"
          ]
        }
      ]
    },
    {
      "cell_type": "code",
      "source": [
        "import pandas as pd"
      ],
      "metadata": {
        "id": "eBG6ikwlVSqr"
      },
      "execution_count": null,
      "outputs": []
    },
    {
      "cell_type": "code",
      "source": [
        "data = pd.read_csv('/content/drive/MyDrive/VNP/covid_impact_on_airport_traffic.csv')"
      ],
      "metadata": {
        "id": "WORtycj8iCA8"
      },
      "execution_count": null,
      "outputs": []
    },
    {
      "cell_type": "code",
      "execution_count": null,
      "metadata": {
        "id": "tNi3STyahTOf",
        "colab": {
          "base_uri": "https://localhost:8080/",
          "height": 206
        },
        "outputId": "c9906b52-ce61-4d6b-fdda-052c1b2ce355"
      },
      "outputs": [
        {
          "output_type": "execute_result",
          "data": {
            "text/plain": [
              "  AggregationMethod        Date  Version      AirportName  PercentOfBaseline  \\\n",
              "0             Daily  2020-04-03      1.0  Kingsford Smith                 64   \n",
              "1             Daily  2020-04-13      1.0  Kingsford Smith                 29   \n",
              "2             Daily  2020-07-10      1.0  Kingsford Smith                 54   \n",
              "3             Daily  2020-09-02      1.0  Kingsford Smith                 18   \n",
              "4             Daily  2020-10-31      1.0  Kingsford Smith                 22   \n",
              "\n",
              "                                    Centroid    City            State  \\\n",
              "0  POINT(151.180087713813 -33.9459774986125)  Sydney  New South Wales   \n",
              "1  POINT(151.180087713813 -33.9459774986125)  Sydney  New South Wales   \n",
              "2  POINT(151.180087713813 -33.9459774986125)  Sydney  New South Wales   \n",
              "3  POINT(151.180087713813 -33.9459774986125)  Sydney  New South Wales   \n",
              "4  POINT(151.180087713813 -33.9459774986125)  Sydney  New South Wales   \n",
              "\n",
              "  ISO_3166_2    Country                                          Geography  \n",
              "0         AU  Australia  POLYGON((151.164354085922 -33.9301772341877, 1...  \n",
              "1         AU  Australia  POLYGON((151.164354085922 -33.9301772341877, 1...  \n",
              "2         AU  Australia  POLYGON((151.164354085922 -33.9301772341877, 1...  \n",
              "3         AU  Australia  POLYGON((151.164354085922 -33.9301772341877, 1...  \n",
              "4         AU  Australia  POLYGON((151.164354085922 -33.9301772341877, 1...  "
            ],
            "text/html": [
              "\n",
              "  <div id=\"df-1790b36b-817c-4ced-9649-e58738065274\">\n",
              "    <div class=\"colab-df-container\">\n",
              "      <div>\n",
              "<style scoped>\n",
              "    .dataframe tbody tr th:only-of-type {\n",
              "        vertical-align: middle;\n",
              "    }\n",
              "\n",
              "    .dataframe tbody tr th {\n",
              "        vertical-align: top;\n",
              "    }\n",
              "\n",
              "    .dataframe thead th {\n",
              "        text-align: right;\n",
              "    }\n",
              "</style>\n",
              "<table border=\"1\" class=\"dataframe\">\n",
              "  <thead>\n",
              "    <tr style=\"text-align: right;\">\n",
              "      <th></th>\n",
              "      <th>AggregationMethod</th>\n",
              "      <th>Date</th>\n",
              "      <th>Version</th>\n",
              "      <th>AirportName</th>\n",
              "      <th>PercentOfBaseline</th>\n",
              "      <th>Centroid</th>\n",
              "      <th>City</th>\n",
              "      <th>State</th>\n",
              "      <th>ISO_3166_2</th>\n",
              "      <th>Country</th>\n",
              "      <th>Geography</th>\n",
              "    </tr>\n",
              "  </thead>\n",
              "  <tbody>\n",
              "    <tr>\n",
              "      <th>0</th>\n",
              "      <td>Daily</td>\n",
              "      <td>2020-04-03</td>\n",
              "      <td>1.0</td>\n",
              "      <td>Kingsford Smith</td>\n",
              "      <td>64</td>\n",
              "      <td>POINT(151.180087713813 -33.9459774986125)</td>\n",
              "      <td>Sydney</td>\n",
              "      <td>New South Wales</td>\n",
              "      <td>AU</td>\n",
              "      <td>Australia</td>\n",
              "      <td>POLYGON((151.164354085922 -33.9301772341877, 1...</td>\n",
              "    </tr>\n",
              "    <tr>\n",
              "      <th>1</th>\n",
              "      <td>Daily</td>\n",
              "      <td>2020-04-13</td>\n",
              "      <td>1.0</td>\n",
              "      <td>Kingsford Smith</td>\n",
              "      <td>29</td>\n",
              "      <td>POINT(151.180087713813 -33.9459774986125)</td>\n",
              "      <td>Sydney</td>\n",
              "      <td>New South Wales</td>\n",
              "      <td>AU</td>\n",
              "      <td>Australia</td>\n",
              "      <td>POLYGON((151.164354085922 -33.9301772341877, 1...</td>\n",
              "    </tr>\n",
              "    <tr>\n",
              "      <th>2</th>\n",
              "      <td>Daily</td>\n",
              "      <td>2020-07-10</td>\n",
              "      <td>1.0</td>\n",
              "      <td>Kingsford Smith</td>\n",
              "      <td>54</td>\n",
              "      <td>POINT(151.180087713813 -33.9459774986125)</td>\n",
              "      <td>Sydney</td>\n",
              "      <td>New South Wales</td>\n",
              "      <td>AU</td>\n",
              "      <td>Australia</td>\n",
              "      <td>POLYGON((151.164354085922 -33.9301772341877, 1...</td>\n",
              "    </tr>\n",
              "    <tr>\n",
              "      <th>3</th>\n",
              "      <td>Daily</td>\n",
              "      <td>2020-09-02</td>\n",
              "      <td>1.0</td>\n",
              "      <td>Kingsford Smith</td>\n",
              "      <td>18</td>\n",
              "      <td>POINT(151.180087713813 -33.9459774986125)</td>\n",
              "      <td>Sydney</td>\n",
              "      <td>New South Wales</td>\n",
              "      <td>AU</td>\n",
              "      <td>Australia</td>\n",
              "      <td>POLYGON((151.164354085922 -33.9301772341877, 1...</td>\n",
              "    </tr>\n",
              "    <tr>\n",
              "      <th>4</th>\n",
              "      <td>Daily</td>\n",
              "      <td>2020-10-31</td>\n",
              "      <td>1.0</td>\n",
              "      <td>Kingsford Smith</td>\n",
              "      <td>22</td>\n",
              "      <td>POINT(151.180087713813 -33.9459774986125)</td>\n",
              "      <td>Sydney</td>\n",
              "      <td>New South Wales</td>\n",
              "      <td>AU</td>\n",
              "      <td>Australia</td>\n",
              "      <td>POLYGON((151.164354085922 -33.9301772341877, 1...</td>\n",
              "    </tr>\n",
              "  </tbody>\n",
              "</table>\n",
              "</div>\n",
              "      <button class=\"colab-df-convert\" onclick=\"convertToInteractive('df-1790b36b-817c-4ced-9649-e58738065274')\"\n",
              "              title=\"Convert this dataframe to an interactive table.\"\n",
              "              style=\"display:none;\">\n",
              "        \n",
              "  <svg xmlns=\"http://www.w3.org/2000/svg\" height=\"24px\"viewBox=\"0 0 24 24\"\n",
              "       width=\"24px\">\n",
              "    <path d=\"M0 0h24v24H0V0z\" fill=\"none\"/>\n",
              "    <path d=\"M18.56 5.44l.94 2.06.94-2.06 2.06-.94-2.06-.94-.94-2.06-.94 2.06-2.06.94zm-11 1L8.5 8.5l.94-2.06 2.06-.94-2.06-.94L8.5 2.5l-.94 2.06-2.06.94zm10 10l.94 2.06.94-2.06 2.06-.94-2.06-.94-.94-2.06-.94 2.06-2.06.94z\"/><path d=\"M17.41 7.96l-1.37-1.37c-.4-.4-.92-.59-1.43-.59-.52 0-1.04.2-1.43.59L10.3 9.45l-7.72 7.72c-.78.78-.78 2.05 0 2.83L4 21.41c.39.39.9.59 1.41.59.51 0 1.02-.2 1.41-.59l7.78-7.78 2.81-2.81c.8-.78.8-2.07 0-2.86zM5.41 20L4 18.59l7.72-7.72 1.47 1.35L5.41 20z\"/>\n",
              "  </svg>\n",
              "      </button>\n",
              "      \n",
              "  <style>\n",
              "    .colab-df-container {\n",
              "      display:flex;\n",
              "      flex-wrap:wrap;\n",
              "      gap: 12px;\n",
              "    }\n",
              "\n",
              "    .colab-df-convert {\n",
              "      background-color: #E8F0FE;\n",
              "      border: none;\n",
              "      border-radius: 50%;\n",
              "      cursor: pointer;\n",
              "      display: none;\n",
              "      fill: #1967D2;\n",
              "      height: 32px;\n",
              "      padding: 0 0 0 0;\n",
              "      width: 32px;\n",
              "    }\n",
              "\n",
              "    .colab-df-convert:hover {\n",
              "      background-color: #E2EBFA;\n",
              "      box-shadow: 0px 1px 2px rgba(60, 64, 67, 0.3), 0px 1px 3px 1px rgba(60, 64, 67, 0.15);\n",
              "      fill: #174EA6;\n",
              "    }\n",
              "\n",
              "    [theme=dark] .colab-df-convert {\n",
              "      background-color: #3B4455;\n",
              "      fill: #D2E3FC;\n",
              "    }\n",
              "\n",
              "    [theme=dark] .colab-df-convert:hover {\n",
              "      background-color: #434B5C;\n",
              "      box-shadow: 0px 1px 3px 1px rgba(0, 0, 0, 0.15);\n",
              "      filter: drop-shadow(0px 1px 2px rgba(0, 0, 0, 0.3));\n",
              "      fill: #FFFFFF;\n",
              "    }\n",
              "  </style>\n",
              "\n",
              "      <script>\n",
              "        const buttonEl =\n",
              "          document.querySelector('#df-1790b36b-817c-4ced-9649-e58738065274 button.colab-df-convert');\n",
              "        buttonEl.style.display =\n",
              "          google.colab.kernel.accessAllowed ? 'block' : 'none';\n",
              "\n",
              "        async function convertToInteractive(key) {\n",
              "          const element = document.querySelector('#df-1790b36b-817c-4ced-9649-e58738065274');\n",
              "          const dataTable =\n",
              "            await google.colab.kernel.invokeFunction('convertToInteractive',\n",
              "                                                     [key], {});\n",
              "          if (!dataTable) return;\n",
              "\n",
              "          const docLinkHtml = 'Like what you see? Visit the ' +\n",
              "            '<a target=\"_blank\" href=https://colab.research.google.com/notebooks/data_table.ipynb>data table notebook</a>'\n",
              "            + ' to learn more about interactive tables.';\n",
              "          element.innerHTML = '';\n",
              "          dataTable['output_type'] = 'display_data';\n",
              "          await google.colab.output.renderOutput(dataTable, element);\n",
              "          const docLink = document.createElement('div');\n",
              "          docLink.innerHTML = docLinkHtml;\n",
              "          element.appendChild(docLink);\n",
              "        }\n",
              "      </script>\n",
              "    </div>\n",
              "  </div>\n",
              "  "
            ]
          },
          "metadata": {},
          "execution_count": 4
        }
      ],
      "source": [
        "data.head()"
      ]
    },
    {
      "cell_type": "code",
      "source": [
        "data.isnull().sum()"
      ],
      "metadata": {
        "colab": {
          "base_uri": "https://localhost:8080/"
        },
        "id": "9isw8YnhXKsb",
        "outputId": "ed57f53d-eb2e-4c00-efee-9867045d09cb"
      },
      "execution_count": null,
      "outputs": [
        {
          "output_type": "execute_result",
          "data": {
            "text/plain": [
              "AggregationMethod    0\n",
              "Date                 0\n",
              "Version              0\n",
              "AirportName          0\n",
              "PercentOfBaseline    0\n",
              "Centroid             0\n",
              "City                 0\n",
              "State                0\n",
              "ISO_3166_2           0\n",
              "Country              0\n",
              "Geography            0\n",
              "dtype: int64"
            ]
          },
          "metadata": {},
          "execution_count": 5
        }
      ]
    },
    {
      "cell_type": "code",
      "source": [
        "data['AggregationMethod'].value_counts()"
      ],
      "metadata": {
        "colab": {
          "base_uri": "https://localhost:8080/"
        },
        "id": "_JGpyoG7dwoB",
        "outputId": "0f506bb3-11b7-4fc1-faee-2b67b3f48dd1"
      },
      "execution_count": null,
      "outputs": [
        {
          "output_type": "execute_result",
          "data": {
            "text/plain": [
              "Daily    7247\n",
              "Name: AggregationMethod, dtype: int64"
            ]
          },
          "metadata": {},
          "execution_count": 6
        }
      ]
    },
    {
      "cell_type": "code",
      "source": [
        "data['Version'].value_counts()"
      ],
      "metadata": {
        "colab": {
          "base_uri": "https://localhost:8080/"
        },
        "id": "YRXsWYEOeEzH",
        "outputId": "e6899eb2-9247-4f9c-b85d-18f676813f17"
      },
      "execution_count": null,
      "outputs": [
        {
          "output_type": "execute_result",
          "data": {
            "text/plain": [
              "1.0    7247\n",
              "Name: Version, dtype: int64"
            ]
          },
          "metadata": {},
          "execution_count": 7
        }
      ]
    },
    {
      "cell_type": "code",
      "source": [
        "data['Country'].value_counts()"
      ],
      "metadata": {
        "colab": {
          "base_uri": "https://localhost:8080/"
        },
        "id": "efCXZs6Y1ted",
        "outputId": "db8e1cc9-0974-4ed1-8aa8-d8fc336e7677"
      },
      "execution_count": null,
      "outputs": [
        {
          "output_type": "execute_result",
          "data": {
            "text/plain": [
              "United States of America (the)    4441\n",
              "Canada                            2311\n",
              "Australia                          257\n",
              "Chile                              238\n",
              "Name: Country, dtype: int64"
            ]
          },
          "metadata": {},
          "execution_count": 8
        }
      ]
    },
    {
      "cell_type": "code",
      "source": [
        "# We can drop the columns \"AggregationMethod\" and \"Version\" since they don't affect the dataset in any way.\n",
        "data = data.drop(['AggregationMethod','Version'], axis=1)"
      ],
      "metadata": {
        "id": "6ewcijQXeweF"
      },
      "execution_count": null,
      "outputs": []
    },
    {
      "cell_type": "code",
      "source": [
        "from sklearn.preprocessing import LabelEncoder\n",
        "encoder = LabelEncoder()\n",
        "data['Country']=encoder.fit_transform(data['Country'].to_numpy().reshape(-1,1))"
      ],
      "metadata": {
        "colab": {
          "base_uri": "https://localhost:8080/"
        },
        "id": "GYvbR8yf4jhc",
        "outputId": "3c078eeb-aadc-470b-d057-73cabaa70979"
      },
      "execution_count": null,
      "outputs": [
        {
          "output_type": "stream",
          "name": "stderr",
          "text": [
            "/usr/local/lib/python3.8/dist-packages/sklearn/preprocessing/_label.py:115: DataConversionWarning: A column-vector y was passed when a 1d array was expected. Please change the shape of y to (n_samples, ), for example using ravel().\n",
            "  y = column_or_1d(y, warn=True)\n"
          ]
        }
      ]
    },
    {
      "cell_type": "code",
      "source": [
        "encoder.classes_"
      ],
      "metadata": {
        "colab": {
          "base_uri": "https://localhost:8080/"
        },
        "id": "2kBSFOhC4s2V",
        "outputId": "99449ef1-f08b-4410-ad35-bdea7e133cfc"
      },
      "execution_count": null,
      "outputs": [
        {
          "output_type": "execute_result",
          "data": {
            "text/plain": [
              "array(['Australia', 'Canada', 'Chile', 'United States of America (the)'],\n",
              "      dtype=object)"
            ]
          },
          "metadata": {},
          "execution_count": 11
        }
      ]
    },
    {
      "cell_type": "code",
      "source": [
        "data.head()"
      ],
      "metadata": {
        "colab": {
          "base_uri": "https://localhost:8080/",
          "height": 206
        },
        "id": "YCLrhna34ur2",
        "outputId": "ace96979-1d5b-4dcd-c155-fa641ec628ce"
      },
      "execution_count": null,
      "outputs": [
        {
          "output_type": "execute_result",
          "data": {
            "text/plain": [
              "         Date      AirportName  PercentOfBaseline  \\\n",
              "0  2020-04-03  Kingsford Smith                 64   \n",
              "1  2020-04-13  Kingsford Smith                 29   \n",
              "2  2020-07-10  Kingsford Smith                 54   \n",
              "3  2020-09-02  Kingsford Smith                 18   \n",
              "4  2020-10-31  Kingsford Smith                 22   \n",
              "\n",
              "                                    Centroid    City            State  \\\n",
              "0  POINT(151.180087713813 -33.9459774986125)  Sydney  New South Wales   \n",
              "1  POINT(151.180087713813 -33.9459774986125)  Sydney  New South Wales   \n",
              "2  POINT(151.180087713813 -33.9459774986125)  Sydney  New South Wales   \n",
              "3  POINT(151.180087713813 -33.9459774986125)  Sydney  New South Wales   \n",
              "4  POINT(151.180087713813 -33.9459774986125)  Sydney  New South Wales   \n",
              "\n",
              "  ISO_3166_2  Country                                          Geography  \n",
              "0         AU        0  POLYGON((151.164354085922 -33.9301772341877, 1...  \n",
              "1         AU        0  POLYGON((151.164354085922 -33.9301772341877, 1...  \n",
              "2         AU        0  POLYGON((151.164354085922 -33.9301772341877, 1...  \n",
              "3         AU        0  POLYGON((151.164354085922 -33.9301772341877, 1...  \n",
              "4         AU        0  POLYGON((151.164354085922 -33.9301772341877, 1...  "
            ],
            "text/html": [
              "\n",
              "  <div id=\"df-be0b5368-2dfc-4abb-9d0c-f98dd7224896\">\n",
              "    <div class=\"colab-df-container\">\n",
              "      <div>\n",
              "<style scoped>\n",
              "    .dataframe tbody tr th:only-of-type {\n",
              "        vertical-align: middle;\n",
              "    }\n",
              "\n",
              "    .dataframe tbody tr th {\n",
              "        vertical-align: top;\n",
              "    }\n",
              "\n",
              "    .dataframe thead th {\n",
              "        text-align: right;\n",
              "    }\n",
              "</style>\n",
              "<table border=\"1\" class=\"dataframe\">\n",
              "  <thead>\n",
              "    <tr style=\"text-align: right;\">\n",
              "      <th></th>\n",
              "      <th>Date</th>\n",
              "      <th>AirportName</th>\n",
              "      <th>PercentOfBaseline</th>\n",
              "      <th>Centroid</th>\n",
              "      <th>City</th>\n",
              "      <th>State</th>\n",
              "      <th>ISO_3166_2</th>\n",
              "      <th>Country</th>\n",
              "      <th>Geography</th>\n",
              "    </tr>\n",
              "  </thead>\n",
              "  <tbody>\n",
              "    <tr>\n",
              "      <th>0</th>\n",
              "      <td>2020-04-03</td>\n",
              "      <td>Kingsford Smith</td>\n",
              "      <td>64</td>\n",
              "      <td>POINT(151.180087713813 -33.9459774986125)</td>\n",
              "      <td>Sydney</td>\n",
              "      <td>New South Wales</td>\n",
              "      <td>AU</td>\n",
              "      <td>0</td>\n",
              "      <td>POLYGON((151.164354085922 -33.9301772341877, 1...</td>\n",
              "    </tr>\n",
              "    <tr>\n",
              "      <th>1</th>\n",
              "      <td>2020-04-13</td>\n",
              "      <td>Kingsford Smith</td>\n",
              "      <td>29</td>\n",
              "      <td>POINT(151.180087713813 -33.9459774986125)</td>\n",
              "      <td>Sydney</td>\n",
              "      <td>New South Wales</td>\n",
              "      <td>AU</td>\n",
              "      <td>0</td>\n",
              "      <td>POLYGON((151.164354085922 -33.9301772341877, 1...</td>\n",
              "    </tr>\n",
              "    <tr>\n",
              "      <th>2</th>\n",
              "      <td>2020-07-10</td>\n",
              "      <td>Kingsford Smith</td>\n",
              "      <td>54</td>\n",
              "      <td>POINT(151.180087713813 -33.9459774986125)</td>\n",
              "      <td>Sydney</td>\n",
              "      <td>New South Wales</td>\n",
              "      <td>AU</td>\n",
              "      <td>0</td>\n",
              "      <td>POLYGON((151.164354085922 -33.9301772341877, 1...</td>\n",
              "    </tr>\n",
              "    <tr>\n",
              "      <th>3</th>\n",
              "      <td>2020-09-02</td>\n",
              "      <td>Kingsford Smith</td>\n",
              "      <td>18</td>\n",
              "      <td>POINT(151.180087713813 -33.9459774986125)</td>\n",
              "      <td>Sydney</td>\n",
              "      <td>New South Wales</td>\n",
              "      <td>AU</td>\n",
              "      <td>0</td>\n",
              "      <td>POLYGON((151.164354085922 -33.9301772341877, 1...</td>\n",
              "    </tr>\n",
              "    <tr>\n",
              "      <th>4</th>\n",
              "      <td>2020-10-31</td>\n",
              "      <td>Kingsford Smith</td>\n",
              "      <td>22</td>\n",
              "      <td>POINT(151.180087713813 -33.9459774986125)</td>\n",
              "      <td>Sydney</td>\n",
              "      <td>New South Wales</td>\n",
              "      <td>AU</td>\n",
              "      <td>0</td>\n",
              "      <td>POLYGON((151.164354085922 -33.9301772341877, 1...</td>\n",
              "    </tr>\n",
              "  </tbody>\n",
              "</table>\n",
              "</div>\n",
              "      <button class=\"colab-df-convert\" onclick=\"convertToInteractive('df-be0b5368-2dfc-4abb-9d0c-f98dd7224896')\"\n",
              "              title=\"Convert this dataframe to an interactive table.\"\n",
              "              style=\"display:none;\">\n",
              "        \n",
              "  <svg xmlns=\"http://www.w3.org/2000/svg\" height=\"24px\"viewBox=\"0 0 24 24\"\n",
              "       width=\"24px\">\n",
              "    <path d=\"M0 0h24v24H0V0z\" fill=\"none\"/>\n",
              "    <path d=\"M18.56 5.44l.94 2.06.94-2.06 2.06-.94-2.06-.94-.94-2.06-.94 2.06-2.06.94zm-11 1L8.5 8.5l.94-2.06 2.06-.94-2.06-.94L8.5 2.5l-.94 2.06-2.06.94zm10 10l.94 2.06.94-2.06 2.06-.94-2.06-.94-.94-2.06-.94 2.06-2.06.94z\"/><path d=\"M17.41 7.96l-1.37-1.37c-.4-.4-.92-.59-1.43-.59-.52 0-1.04.2-1.43.59L10.3 9.45l-7.72 7.72c-.78.78-.78 2.05 0 2.83L4 21.41c.39.39.9.59 1.41.59.51 0 1.02-.2 1.41-.59l7.78-7.78 2.81-2.81c.8-.78.8-2.07 0-2.86zM5.41 20L4 18.59l7.72-7.72 1.47 1.35L5.41 20z\"/>\n",
              "  </svg>\n",
              "      </button>\n",
              "      \n",
              "  <style>\n",
              "    .colab-df-container {\n",
              "      display:flex;\n",
              "      flex-wrap:wrap;\n",
              "      gap: 12px;\n",
              "    }\n",
              "\n",
              "    .colab-df-convert {\n",
              "      background-color: #E8F0FE;\n",
              "      border: none;\n",
              "      border-radius: 50%;\n",
              "      cursor: pointer;\n",
              "      display: none;\n",
              "      fill: #1967D2;\n",
              "      height: 32px;\n",
              "      padding: 0 0 0 0;\n",
              "      width: 32px;\n",
              "    }\n",
              "\n",
              "    .colab-df-convert:hover {\n",
              "      background-color: #E2EBFA;\n",
              "      box-shadow: 0px 1px 2px rgba(60, 64, 67, 0.3), 0px 1px 3px 1px rgba(60, 64, 67, 0.15);\n",
              "      fill: #174EA6;\n",
              "    }\n",
              "\n",
              "    [theme=dark] .colab-df-convert {\n",
              "      background-color: #3B4455;\n",
              "      fill: #D2E3FC;\n",
              "    }\n",
              "\n",
              "    [theme=dark] .colab-df-convert:hover {\n",
              "      background-color: #434B5C;\n",
              "      box-shadow: 0px 1px 3px 1px rgba(0, 0, 0, 0.15);\n",
              "      filter: drop-shadow(0px 1px 2px rgba(0, 0, 0, 0.3));\n",
              "      fill: #FFFFFF;\n",
              "    }\n",
              "  </style>\n",
              "\n",
              "      <script>\n",
              "        const buttonEl =\n",
              "          document.querySelector('#df-be0b5368-2dfc-4abb-9d0c-f98dd7224896 button.colab-df-convert');\n",
              "        buttonEl.style.display =\n",
              "          google.colab.kernel.accessAllowed ? 'block' : 'none';\n",
              "\n",
              "        async function convertToInteractive(key) {\n",
              "          const element = document.querySelector('#df-be0b5368-2dfc-4abb-9d0c-f98dd7224896');\n",
              "          const dataTable =\n",
              "            await google.colab.kernel.invokeFunction('convertToInteractive',\n",
              "                                                     [key], {});\n",
              "          if (!dataTable) return;\n",
              "\n",
              "          const docLinkHtml = 'Like what you see? Visit the ' +\n",
              "            '<a target=\"_blank\" href=https://colab.research.google.com/notebooks/data_table.ipynb>data table notebook</a>'\n",
              "            + ' to learn more about interactive tables.';\n",
              "          element.innerHTML = '';\n",
              "          dataTable['output_type'] = 'display_data';\n",
              "          await google.colab.output.renderOutput(dataTable, element);\n",
              "          const docLink = document.createElement('div');\n",
              "          docLink.innerHTML = docLinkHtml;\n",
              "          element.appendChild(docLink);\n",
              "        }\n",
              "      </script>\n",
              "    </div>\n",
              "  </div>\n",
              "  "
            ]
          },
          "metadata": {},
          "execution_count": 12
        }
      ]
    },
    {
      "cell_type": "code",
      "source": [
        "import matplotlib.pyplot as plt\n",
        "import seaborn as sns\n",
        "\n",
        "sns.pairplot(data)"
      ],
      "metadata": {
        "colab": {
          "base_uri": "https://localhost:8080/",
          "height": 391
        },
        "id": "C9wD93TcXMia",
        "outputId": "93eff202-2b32-40ea-ded7-143dd49fe7c8"
      },
      "execution_count": null,
      "outputs": [
        {
          "output_type": "execute_result",
          "data": {
            "text/plain": [
              "<seaborn.axisgrid.PairGrid at 0x7ffba2e51a60>"
            ]
          },
          "metadata": {},
          "execution_count": 13
        },
        {
          "output_type": "display_data",
          "data": {
            "text/plain": [
              "<Figure size 360x360 with 6 Axes>"
            ],
            "image/png": "[encoded data removed]"
          },
          "metadata": {
            "needs_background": "light"
          }
        }
      ]
    },
    {
      "cell_type": "code",
      "source": [
        "dataCopy = data.copy()"
      ],
      "metadata": {
        "id": "ScAlY1yv-E7d"
      },
      "execution_count": null,
      "outputs": []
    },
    {
      "cell_type": "code",
      "source": [
        "#Target column is the Country, that's what we're trying to predict based on PercentOfBaseline\n",
        "#Since the target column has a categorical value, we use classification instead of regression\n",
        "x = dataCopy['PercentOfBaseline']\n",
        "y = dataCopy['Country']"
      ],
      "metadata": {
        "id": "RjUFtXuXxMam"
      },
      "execution_count": null,
      "outputs": []
    },
    {
      "cell_type": "code",
      "source": [
        "from sklearn.model_selection import train_test_split\n",
        "\n",
        "X_train, X_test, Y_train, Y_test = train_test_split(x, y, test_size=0.2)"
      ],
      "metadata": {
        "id": "-gvuH6V78FYE"
      },
      "execution_count": null,
      "outputs": []
    },
    {
      "cell_type": "code",
      "source": [
        "from sklearn.preprocessing import StandardScaler\n",
        "\n",
        "ss = StandardScaler()\n",
        "X_train = ss.fit_transform(X_train.to_numpy().reshape(-1,1))\n",
        "X_test = ss.transform(X_test.to_numpy().reshape(-1,1))"
      ],
      "metadata": {
        "id": "Fgb-tl-I8OPh"
      },
      "execution_count": null,
      "outputs": []
    },
    {
      "cell_type": "code",
      "source": [
        "from sklearn.neighbors import KNeighborsClassifier\n",
        "\n",
        "classifier = KNeighborsClassifier(n_neighbors=5)\n",
        "classifier.fit(X_train, Y_train)\n",
        "     "
      ],
      "metadata": {
        "colab": {
          "base_uri": "https://localhost:8080/"
        },
        "id": "aO_21-cr8hY6",
        "outputId": "be7fcddf-1736-4b7a-e826-111e3046ef28"
      },
      "execution_count": null,
      "outputs": [
        {
          "output_type": "execute_result",
          "data": {
            "text/plain": [
              "KNeighborsClassifier()"
            ]
          },
          "metadata": {},
          "execution_count": 18
        }
      ]
    },
    {
      "cell_type": "code",
      "source": [
        "Y_pred = classifier.predict(X_test) \n",
        "Y_pred"
      ],
      "metadata": {
        "colab": {
          "base_uri": "https://localhost:8080/"
        },
        "id": "YuPrWK6z8ldg",
        "outputId": "ac428b18-892e-4891-c6dc-ed91b355440e"
      },
      "execution_count": null,
      "outputs": [
        {
          "output_type": "execute_result",
          "data": {
            "text/plain": [
              "array([3, 1, 3, ..., 1, 3, 3])"
            ]
          },
          "metadata": {},
          "execution_count": 19
        }
      ]
    },
    {
      "cell_type": "code",
      "source": [
        "from sklearn.metrics import classification_report, confusion_matrix, f1_score\n",
        "\n",
        "print(confusion_matrix(Y_test, Y_pred))\n",
        "     "
      ],
      "metadata": {
        "colab": {
          "base_uri": "https://localhost:8080/"
        },
        "id": "qQJ1LUje8quL",
        "outputId": "4771f882-8643-402c-85e4-9dfde87c78bf"
      },
      "execution_count": null,
      "outputs": [
        {
          "output_type": "stream",
          "name": "stdout",
          "text": [
            "[[ 11  13   5  29]\n",
            " [  9 216   7 234]\n",
            " [ 12  10   2  27]\n",
            " [  9 171  24 671]]\n"
          ]
        }
      ]
    },
    {
      "cell_type": "code",
      "source": [
        "print(classification_report(Y_test, Y_pred))"
      ],
      "metadata": {
        "colab": {
          "base_uri": "https://localhost:8080/"
        },
        "id": "Phxm_bDY8vMP",
        "outputId": "02888f2a-c9b7-4ccc-af5b-2524720c3ba4"
      },
      "execution_count": null,
      "outputs": [
        {
          "output_type": "stream",
          "name": "stdout",
          "text": [
            "              precision    recall  f1-score   support\n",
            "\n",
            "           0       0.27      0.19      0.22        58\n",
            "           1       0.53      0.46      0.49       466\n",
            "           2       0.05      0.04      0.04        51\n",
            "           3       0.70      0.77      0.73       875\n",
            "\n",
            "    accuracy                           0.62      1450\n",
            "   macro avg       0.39      0.36      0.37      1450\n",
            "weighted avg       0.60      0.62      0.61      1450\n",
            "\n"
          ]
        }
      ]
    },
    {
      "cell_type": "code",
      "source": [
        "print(f1_score(Y_test, Y_pred, average='micro'))"
      ],
      "metadata": {
        "colab": {
          "base_uri": "https://localhost:8080/"
        },
        "id": "RHmTt4i08zYN",
        "outputId": "7d3d3cd9-cbe0-4eb3-9c5e-72a7e0700f29"
      },
      "execution_count": null,
      "outputs": [
        {
          "output_type": "stream",
          "name": "stdout",
          "text": [
            "0.6206896551724138\n"
          ]
        }
      ]
    },
    {
      "cell_type": "code",
      "source": [
        "#DecisionTree model\n",
        "y = dataCopy['Country']\n",
        "x = dataCopy['PercentOfBaseline']\n",
        "X_train,X_test,Y_train,Y_test = train_test_split(x,y,test_size=0.2)\n",
        "X_train.to_numpy().reshape(-1,1)"
      ],
      "metadata": {
        "colab": {
          "base_uri": "https://localhost:8080/"
        },
        "id": "1KWYtbZ19quv",
        "outputId": "d5265183-8f33-4539-a199-6690454d4850"
      },
      "execution_count": null,
      "outputs": [
        {
          "output_type": "execute_result",
          "data": {
            "text/plain": [
              "array([[ 66],\n",
              "       [ 84],\n",
              "       [ 66],\n",
              "       ...,\n",
              "       [ 76],\n",
              "       [100],\n",
              "       [ 67]])"
            ]
          },
          "metadata": {},
          "execution_count": 23
        }
      ]
    },
    {
      "cell_type": "code",
      "source": [
        "from sklearn.preprocessing import StandardScaler\n",
        "\n",
        "ss = StandardScaler()\n",
        "X_train = ss.fit_transform(X_train.to_numpy().reshape(-1,1))\n",
        "X_test = ss.transform(X_test.to_numpy().reshape(-1,1))"
      ],
      "metadata": {
        "id": "YUsbHP6NCuKt"
      },
      "execution_count": null,
      "outputs": []
    },
    {
      "cell_type": "code",
      "source": [
        "from sklearn.tree import DecisionTreeClassifier\n",
        "model = DecisionTreeClassifier(max_depth=15,min_samples_split=5,max_leaf_nodes=5)\n",
        "model.fit(X_train,Y_train)"
      ],
      "metadata": {
        "colab": {
          "base_uri": "https://localhost:8080/"
        },
        "id": "1fETTlvF-WKA",
        "outputId": "bdcd29c9-d673-4dc0-af10-2c45ef1da549"
      },
      "execution_count": null,
      "outputs": [
        {
          "output_type": "execute_result",
          "data": {
            "text/plain": [
              "DecisionTreeClassifier(max_depth=15, max_leaf_nodes=5, min_samples_split=5)"
            ]
          },
          "metadata": {},
          "execution_count": 25
        }
      ]
    },
    {
      "cell_type": "code",
      "source": [
        "y_pred = model.predict(X_test)\n",
        "y_pred"
      ],
      "metadata": {
        "colab": {
          "base_uri": "https://localhost:8080/"
        },
        "id": "lcBPdIce-i7m",
        "outputId": "0e14e421-dbe5-47a1-9210-40b89d036d60"
      },
      "execution_count": null,
      "outputs": [
        {
          "output_type": "execute_result",
          "data": {
            "text/plain": [
              "array([3, 1, 3, ..., 3, 3, 3])"
            ]
          },
          "metadata": {},
          "execution_count": 26
        }
      ]
    },
    {
      "cell_type": "code",
      "source": [
        "from sklearn.metrics import classification_report"
      ],
      "metadata": {
        "id": "vJH27oHLAs0n"
      },
      "execution_count": null,
      "outputs": []
    },
    {
      "cell_type": "code",
      "source": [
        "print(classification_report(Y_test,y_pred))"
      ],
      "metadata": {
        "colab": {
          "base_uri": "https://localhost:8080/"
        },
        "id": "_tgteWQ3BZSU",
        "outputId": "ae5f348b-422d-4a79-aa53-5ed4d1ca7352"
      },
      "execution_count": null,
      "outputs": [
        {
          "output_type": "stream",
          "name": "stdout",
          "text": [
            "              precision    recall  f1-score   support\n",
            "\n",
            "           0       0.27      0.47      0.35        55\n",
            "           1       0.65      0.50      0.57       458\n",
            "           2       0.00      0.00      0.00        42\n",
            "           3       0.74      0.83      0.78       895\n",
            "\n",
            "    accuracy                           0.69      1450\n",
            "   macro avg       0.42      0.45      0.42      1450\n",
            "weighted avg       0.67      0.69      0.67      1450\n",
            "\n"
          ]
        },
        {
          "output_type": "stream",
          "name": "stderr",
          "text": [
            "/usr/local/lib/python3.8/dist-packages/sklearn/metrics/_classification.py:1318: UndefinedMetricWarning: Precision and F-score are ill-defined and being set to 0.0 in labels with no predicted samples. Use `zero_division` parameter to control this behavior.\n",
            "  _warn_prf(average, modifier, msg_start, len(result))\n",
            "/usr/local/lib/python3.8/dist-packages/sklearn/metrics/_classification.py:1318: UndefinedMetricWarning: Precision and F-score are ill-defined and being set to 0.0 in labels with no predicted samples. Use `zero_division` parameter to control this behavior.\n",
            "  _warn_prf(average, modifier, msg_start, len(result))\n",
            "/usr/local/lib/python3.8/dist-packages/sklearn/metrics/_classification.py:1318: UndefinedMetricWarning: Precision and F-score are ill-defined and being set to 0.0 in labels with no predicted samples. Use `zero_division` parameter to control this behavior.\n",
            "  _warn_prf(average, modifier, msg_start, len(result))\n"
          ]
        }
      ]
    },
    {
      "cell_type": "code",
      "source": [
        "model.score(X_test,Y_test)"
      ],
      "metadata": {
        "colab": {
          "base_uri": "https://localhost:8080/"
        },
        "id": "oEDVvHjfBcml",
        "outputId": "216fd6f0-c2f3-497b-b148-d834b87a1550"
      },
      "execution_count": null,
      "outputs": [
        {
          "output_type": "execute_result",
          "data": {
            "text/plain": [
              "0.6875862068965517"
            ]
          },
          "metadata": {},
          "execution_count": 29
        }
      ]
    },
    {
      "cell_type": "code",
      "source": [
        "[str(i) for i in Y_train.unique()]"
      ],
      "metadata": {
        "colab": {
          "base_uri": "https://localhost:8080/"
        },
        "id": "lHf1hrHCBhY-",
        "outputId": "79b8aeea-3c57-434d-cdfe-188c78609e79"
      },
      "execution_count": null,
      "outputs": [
        {
          "output_type": "execute_result",
          "data": {
            "text/plain": [
              "['3', '1', '2', '0']"
            ]
          },
          "metadata": {},
          "execution_count": 30
        }
      ]
    },
    {
      "cell_type": "code",
      "source": [
        "!pip install graphviz"
      ],
      "metadata": {
        "colab": {
          "base_uri": "https://localhost:8080/"
        },
        "id": "6ptULu9dC9uo",
        "outputId": "42f422c2-1cd0-44a6-f490-009e086b26c1"
      },
      "execution_count": null,
      "outputs": [
        {
          "output_type": "stream",
          "name": "stdout",
          "text": [
            "Looking in indexes: https://pypi.org/simple, https://us-python.pkg.dev/colab-wheels/public/simple/\n",
            "Requirement already satisfied: graphviz in /usr/local/lib/python3.8/dist-packages (0.10.1)\n"
          ]
        }
      ]
    },
    {
      "cell_type": "code",
      "source": [
        "!pip install pydotplus"
      ],
      "metadata": {
        "colab": {
          "base_uri": "https://localhost:8080/"
        },
        "id": "GPkRq4jcDCyn",
        "outputId": "0935898f-ede5-427f-cac6-c8b1e39abbf6"
      },
      "execution_count": null,
      "outputs": [
        {
          "output_type": "stream",
          "name": "stdout",
          "text": [
            "Looking in indexes: https://pypi.org/simple, https://us-python.pkg.dev/colab-wheels/public/simple/\n",
            "Requirement already satisfied: pydotplus in /usr/local/lib/python3.8/dist-packages (2.0.2)\n",
            "Requirement already satisfied: pyparsing>=2.0.1 in /usr/local/lib/python3.8/dist-packages (from pydotplus) (3.0.9)\n"
          ]
        }
      ]
    },
    {
      "cell_type": "code",
      "source": [
        "from sklearn.tree import export_graphviz\n",
        "from six import StringIO  \n",
        "from IPython.display import Image  \n",
        "import pydotplus\n",
        "\n",
        "dot_data = StringIO()\n",
        "export_graphviz(model, out_file=dot_data,  \n",
        "                filled=True, rounded=True,\n",
        "                special_characters=True,class_names=[str(i) for i in Y_train.unique()])\n",
        "graph = pydotplus.graph_from_dot_data(dot_data.getvalue())  \n",
        "Image(graph.create_png())"
      ],
      "metadata": {
        "colab": {
          "base_uri": "https://localhost:8080/",
          "height": 574
        },
        "id": "6n1YHnP_DGT1",
        "outputId": "2df10dc2-e2e7-4a8f-b616-0342af055b05"
      },
      "execution_count": null,
      "outputs": [
        {
          "output_type": "execute_result",
          "data": {
            "image/png": "[encoded data removed]",
            "text/plain": [
              "<IPython.core.display.Image object>"
            ]
          },
          "metadata": {},
          "execution_count": 33
        }
      ]
    }
  ]
}